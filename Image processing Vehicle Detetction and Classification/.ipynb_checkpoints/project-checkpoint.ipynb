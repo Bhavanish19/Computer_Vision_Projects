{
 "cells": [
  {
   "cell_type": "code",
   "execution_count": 1,
   "metadata": {},
   "outputs": [],
   "source": [
    "import numpy as np\n",
    "import time\n",
    "import cv2\n",
    "import matplotlib.pyplot as plt\n",
    "%matplotlib inline"
   ]
  },
  {
   "cell_type": "code",
   "execution_count": 4,
   "metadata": {},
   "outputs": [],
   "source": [
    "cap = cv2.VideoCapture('test9.mp4')\n",
    "fgbg = cv2.createBackgroundSubtractorMOG2()\n",
    "car_cascade = cv2.CascadeClassifier('cars.xml')\n",
    "bike_cascade = cv2.CascadeClassifier('two_wheeler.xml')\n",
    "bus_cascade = cv2.CascadeClassifier('Bus_front.xml')\n",
    "\n",
    "while True:\n",
    "    ret, img = cap.read()\n",
    "    fgbg.apply(img)\n",
    "    if (type(img) == type(None)):\n",
    "        break\n",
    "    gray = cv2.cvtColor(img, cv2.COLOR_BGR2GRAY)\n",
    "    \n",
    "  \n",
    "    \n",
    "    cars = car_cascade.detectMultiScale(gray, 1.6, 2)\n",
    "    bike = bike_cascade.detectMultiScale(gray,1.005, 2)\n",
    "    bus = bus_cascade.detectMultiScale(gray, 1.16, 1)\n",
    "\n",
    "\n",
    "    \n",
    "    for (x,y,w,h) in cars:\n",
    "        cv2.rectangle(img,(x,y),(x+w,y+h),(0,255,255),2)\n",
    "        cv2.putText(img, 'Car', (x, y-10), cv2.FONT_HERSHEY_SIMPLEX, 0.9, (0,255,255), 2)\n",
    "        \n",
    "    for (x1,y1,w1,h1) in bike:\n",
    "        cv2.rectangle(img,(x1,y1),(x1+w1,y1+h1),(255,0,215),2)\n",
    "        cv2.putText(img, 'Bike', (x1, y1-10), cv2.FONT_HERSHEY_SIMPLEX, 0.9, (255,0,215), 2)\n",
    "        \n",
    "    for (x2,y2,w2,h2) in bus:\n",
    "        cv2.rectangle(img,(x2,y2),(x2+w2,y2+h2),(255,255,255),3)\n",
    "        cv2.putText(img, 'Truck', (x2, y2-10), cv2.FONT_HERSHEY_SIMPLEX, 0.9, (255,255,255), 2)\n",
    "    \n",
    "   \n",
    "    \n",
    "    cv2.imshow('video', img)\n",
    "   \n",
    "    \n",
    "    if cv2.waitKey(33) == 27:\n",
    "        break\n",
    "\n",
    "cv2.destroyAllWindows()\n"
   ]
  }
 ],
 "metadata": {
  "kernelspec": {
   "display_name": "Python 3",
   "language": "python",
   "name": "python3"
  },
  "language_info": {
   "codemirror_mode": {
    "name": "ipython",
    "version": 3
   },
   "file_extension": ".py",
   "mimetype": "text/x-python",
   "name": "python",
   "nbconvert_exporter": "python",
   "pygments_lexer": "ipython3",
   "version": "3.7.6"
  }
 },
 "nbformat": 4,
 "nbformat_minor": 4
}
